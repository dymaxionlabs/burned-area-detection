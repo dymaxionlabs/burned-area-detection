{
 "cells": [
  {
   "cell_type": "markdown",
   "metadata": {
    "id": "0rFd2ZvhPWBb"
   },
   "source": [
    "# Prediction"
   ]
  },
  {
   "cell_type": "markdown",
   "metadata": {},
   "source": [
    "### Build images"
   ]
  },
  {
   "cell_type": "markdown",
   "metadata": {},
   "source": [
    "The images for the prediction process are generated in the same way but in this case, the masks are not going to be created.\n",
    "In the prediction process, the size and the step-size must be the same to do not generate an overlap in the predicted results. However, there is no need that the images have the same size as the training images."
   ]
  },
  {
   "cell_type": "code",
   "execution_count": null,
   "metadata": {},
   "outputs": [],
   "source": [
    "!ls "
   ]
  },
  {
   "cell_type": "code",
   "execution_count": null,
   "metadata": {
    "scrolled": true
   },
   "outputs": [],
   "source": [
    "!satproc_extract_chips     \\\n",
    "    ./data_cordoba/img/NBR_img/NBR_2021-10-07_2021-10-21_0.tif \\\n",
    "    -o ./data_predict_cba/onedate_FW/160_160/ \\\n",
    "    --size 160 \\\n",
    "    --step-size 160 \\\n",
    "    --rescale \\\n",
    "    --rescale-mode percentiles \\\n",
    "    --upper-cut 98 --lower-cut 2"
   ]
  },
  {
   "cell_type": "markdown",
   "metadata": {},
   "source": [
    "The **--aoi** option is useful to reduce the predicction area to some shapefile."
   ]
  },
  {
   "cell_type": "markdown",
   "metadata": {},
   "source": [
    "# Predict "
   ]
  },
  {
   "cell_type": "code",
   "execution_count": null,
   "metadata": {
    "jupyter": {
     "outputs_hidden": true
    }
   },
   "outputs": [],
   "source": [
    "from unetseg.predict import PredictConfig, predict\n",
    "from unetseg.evaluate import plot_data_results\n",
    "import os"
   ]
  },
  {
   "cell_type": "code",
   "execution_count": null,
   "metadata": {},
   "outputs": [],
   "source": [
    "predict_config = PredictConfig(\n",
    "                                    images_path=os.path.join('./data_predict_cba/','onedate_FW','160_160'),\n",
    "                                    results_path=os.path.join('./data_result_cba/','onedate_FW','160_160'),\n",
    "                                    batch_size=16,\n",
    "                                    model_path=os.path.join('./data/weights/', 'UNet_fire_160_80_spe100_fire_water.h5'),  #  ruta al modelo (.h5)\n",
    "                                    model_architecture = \"unet\",\n",
    "                                    height=160,\n",
    "                                    width=160,\n",
    "                                    n_channels=1,\n",
    "                                    n_classes=2,\n",
    "                                    class_weights=[0.6,0.4])\n",
    "          \n",
    "   "
   ]
  },
  {
   "cell_type": "code",
   "execution_count": null,
   "metadata": {},
   "outputs": [],
   "source": [
    "predict(predict_config) "
   ]
  }
 ],
 "metadata": {
  "colab": {
   "authorship_tag": "ABX9TyNKlws8+6PcuvJrSWdSmTxJ",
   "include_colab_link": true,
   "name": "3 - Predicción",
   "provenance": []
  },
  "kernelspec": {
   "display_name": "Python 3 (ipykernel)",
   "language": "python",
   "name": "python3"
  },
  "language_info": {
   "codemirror_mode": {
    "name": "ipython",
    "version": 3
   },
   "file_extension": ".py",
   "mimetype": "text/x-python",
   "name": "python",
   "nbconvert_exporter": "python",
   "pygments_lexer": "ipython3",
   "version": "3.7.11"
  },
  "toc": {
   "base_numbering": 1,
   "nav_menu": {},
   "number_sections": true,
   "sideBar": true,
   "skip_h1_title": false,
   "title_cell": "Table of Contents",
   "title_sidebar": "Contents",
   "toc_cell": false,
   "toc_position": {},
   "toc_section_display": true,
   "toc_window_display": false
  }
 },
 "nbformat": 4,
 "nbformat_minor": 4
}
